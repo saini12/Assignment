{
 "cells": [
  {
   "cell_type": "markdown",
   "metadata": {},
   "source": [
    " Write a Python Program to implement your own myreduce() function which works exactly \n",
    "like Python's built-in function reduce()"
   ]
  },
  {
   "cell_type": "code",
   "execution_count": 6,
   "metadata": {},
   "outputs": [
    {
     "name": "stdout",
     "output_type": "stream",
     "text": [
      "Enter number of elements : 5\n",
      "1\n",
      "2\n",
      "3\n",
      "4\n",
      "5\n",
      "[1, 2, 3, 4, 5]\n",
      "Sum of list using reduce function 15\n"
     ]
    }
   ],
   "source": [
    "#Getting list from user\n",
    "list = [] \n",
    "n = int(input(\"Enter number of elements : \")) \n",
    "  \n",
    "# iterating till the range \n",
    "for i in range(0, n): \n",
    "    lst = int(input()) \n",
    "  \n",
    "    list.append(lst) # adding the element \n",
    "      \n",
    "print(list) \n",
    "\n",
    "#myreduce function\n",
    "def myreduce(fun,list):\n",
    "    result = list[0]\n",
    "    for i in list[1:]:\n",
    "        result = fun(result,i)\n",
    "    return result\n",
    "def sum(x,y):\n",
    "    return x+y\n",
    "\n",
    "\n",
    "print (\"Sum of list using reduce function \"   + str(myreduce(sum, list)) )"
   ]
  },
  {
   "cell_type": "markdown",
   "metadata": {},
   "source": [
    " "
   ]
  },
  {
   "cell_type": "markdown",
   "metadata": {},
   "source": [
    "\n",
    "\n",
    "Q)  Write a Python program to implement your own myfilter() function which works exactly \n",
    "like Python's built-in function filter()"
   ]
  },
  {
   "cell_type": "code",
   "execution_count": 11,
   "metadata": {},
   "outputs": [
    {
     "name": "stdout",
     "output_type": "stream",
     "text": [
      "Filter out only positive Integers on list using myfilter function[1, 3, 4, 5]\n"
     ]
    }
   ],
   "source": [
    "#myfilter function\n",
    "def myfilter(fun,list):\n",
    "    result = []\n",
    "    for i in list:\n",
    "        if positive(i):\n",
    "            result.append(i)\n",
    "    return result\n",
    "def positive(n):\n",
    "    if n>0:\n",
    "        return True\n",
    "    else :\n",
    "        return False\n",
    "print (\"Filter out only positive Integers on list using myfilter function\"  + str(myfilter(positive, [0,1,-2,3,4,5])))"
   ]
  },
  {
   "cell_type": "markdown",
   "metadata": {},
   "source": [
    " "
   ]
  },
  {
   "cell_type": "markdown",
   "metadata": {},
   "source": [
    "Implement List comprehensions to produce the following lists. \n",
    "Write List comprehensions to produce the following Lists\n",
    "\n",
    "['A', 'C', 'A', 'D', 'G', 'I', ’L’, ‘ D’]\n",
    "\n",
    "['x', 'xx', 'xxx', 'xxxx', 'y', 'yy', 'yyy', 'yyyy', 'z', 'zz', 'zzz', 'zzzz'] \n",
    "\n",
    "['x', 'y', 'z', 'xx', 'yy', 'zz', 'xxx', 'yyy', 'zzz', 'xxxx', 'yyyy', 'zzzz'] \n",
    "\n",
    "[[2], [3], [4], [3], [4], [5], [4], [5], [6]] [[2, 3, 4, 5], [3, 4, 5, 6], \n",
    "\n",
    "[4, 5, 6, 7], [5, 6, 7, 8]]\n",
    "\n",
    "[(1, 1), (2, 1), (3, 1), (1, 2), (2, 2), (3, 2), (1, 3), (2, 3), (3, 3)]"
   ]
  },
  {
   "cell_type": "code",
   "execution_count": 8,
   "metadata": {},
   "outputs": [
    {
     "name": "stdout",
     "output_type": "stream",
     "text": [
      "['A', 'C', 'A', 'D', 'G', 'I', 'L', 'D']\n",
      "['x', 'xx', 'xxx', 'xxxx', 'y', 'yy', 'yyy', 'yyyy', 'z', 'zz', 'zzz', 'zzzz']\n",
      "['x', 'y', 'z', 'xx', 'yy', 'zz', 'xxx', 'yyy', 'zzz', 'xxxx', 'yyyy', 'zzzz']\n",
      "[[2], [3], [4], [3], [4], [5], [4], [5], [6]]\n",
      "[[2, 3, 4, 5], [3, 4, 5, 6], [4, 5, 6, 7], [5, 6, 7, 8]]\n",
      "[(1, 1), (2, 1), (3, 1), (1, 2), (2, 2), (3, 2), (1, 3), (2, 3), (3, 3)]\n"
     ]
    }
   ],
   "source": [
    "### ['A', 'C', 'A', 'D', 'G', 'I', ’L’, ‘ D’]\n",
    "sequence = \"ACADGILD\"\n",
    "list1 = [ i for i in sequence ]\n",
    "\n",
    "### ['x', 'xx', 'xxx', 'xxxx', 'y', 'yy', 'yyy', 'yyyy', 'z', 'zz', 'zzz', 'zzzz']\n",
    "list = ['x','y','z']\n",
    "result = [ i*num for i in list for num in range(1,5)  ]\n",
    "\n",
    "\n",
    "### ['x', 'y', 'z', 'xx', 'yy', 'zz', 'xxx', 'yyy', 'zzz', 'xxxx', 'yyyy', 'zzzz']\n",
    "result1 = [ item*num for num in range(1,5) for item in list  ]\n",
    "\n",
    "###[[[2], [3], [4], [3], [4], [5], [4], [5], [6]]]\n",
    "put_list = [2,3,4]\n",
    "result0 = [ [item+num] for item in put_list for num in range(0,3)]\n",
    "\n",
    "###[[[2, 3, 4, 5], [3, 4, 5, 6],[4, 5, 6, 7], [5, 6, 7, 8]]]\n",
    "input_list = [2,3,4,5]\n",
    "result2 = [ [item+num for item in input_list] for num in range(0,4)  ]\n",
    "\n",
    "### [(1, 1), (2, 1), (3, 1), (1, 2), (2, 2), (3, 2), (1, 3), (2, 3), (3, 3)]\n",
    "mlist = [1,2,3]\n",
    "result3 = [ (b,a) for a in mlist for b in mlist]\n",
    "\n",
    "print(str(list1))\n",
    "print(result)\n",
    "print(result1)\n",
    "print(result0)\n",
    "print(result2)\n",
    "print(str(result3))"
   ]
  },
  {
   "cell_type": "code",
   "execution_count": null,
   "metadata": {},
   "outputs": [],
   "source": []
  },
  {
   "cell_type": "code",
   "execution_count": null,
   "metadata": {},
   "outputs": [],
   "source": []
  }
 ],
 "metadata": {
  "kernelspec": {
   "display_name": "Python 3",
   "language": "python",
   "name": "python3"
  },
  "language_info": {
   "codemirror_mode": {
    "name": "ipython",
    "version": 3
   },
   "file_extension": ".py",
   "mimetype": "text/x-python",
   "name": "python",
   "nbconvert_exporter": "python",
   "pygments_lexer": "ipython3",
   "version": "3.7.4"
  }
 },
 "nbformat": 4,
 "nbformat_minor": 2
}
